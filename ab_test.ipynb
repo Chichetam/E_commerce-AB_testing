{
 "cells": [
  {
   "cell_type": "code",
   "execution_count": 11,
   "id": "248aa49d",
   "metadata": {},
   "outputs": [],
   "source": [
    "import pandas as pd\n",
    "df = pd.read_csv(\"ab_test.csv\") #import the dataset"
   ]
  },
  {
   "cell_type": "markdown",
   "id": "00cbb934",
   "metadata": {},
   "source": [
    "### Exploratory Data Analysis"
   ]
  },
  {
   "cell_type": "code",
   "execution_count": 12,
   "id": "1f4f6469",
   "metadata": {},
   "outputs": [
    {
     "data": {
      "text/html": [
       "<div>\n",
       "<style scoped>\n",
       "    .dataframe tbody tr th:only-of-type {\n",
       "        vertical-align: middle;\n",
       "    }\n",
       "\n",
       "    .dataframe tbody tr th {\n",
       "        vertical-align: top;\n",
       "    }\n",
       "\n",
       "    .dataframe thead th {\n",
       "        text-align: right;\n",
       "    }\n",
       "</style>\n",
       "<table border=\"1\" class=\"dataframe\">\n",
       "  <thead>\n",
       "    <tr style=\"text-align: right;\">\n",
       "      <th></th>\n",
       "      <th>id</th>\n",
       "      <th>time</th>\n",
       "      <th>group</th>\n",
       "      <th>page</th>\n",
       "      <th>converted</th>\n",
       "    </tr>\n",
       "  </thead>\n",
       "  <tbody>\n",
       "    <tr>\n",
       "      <th>0</th>\n",
       "      <td>851104</td>\n",
       "      <td>11:48.6</td>\n",
       "      <td>control</td>\n",
       "      <td>old_page</td>\n",
       "      <td>0</td>\n",
       "    </tr>\n",
       "    <tr>\n",
       "      <th>1</th>\n",
       "      <td>804228</td>\n",
       "      <td>01:45.2</td>\n",
       "      <td>control</td>\n",
       "      <td>old_page</td>\n",
       "      <td>0</td>\n",
       "    </tr>\n",
       "    <tr>\n",
       "      <th>2</th>\n",
       "      <td>661590</td>\n",
       "      <td>55:06.2</td>\n",
       "      <td>treatment</td>\n",
       "      <td>new_page</td>\n",
       "      <td>0</td>\n",
       "    </tr>\n",
       "    <tr>\n",
       "      <th>3</th>\n",
       "      <td>853541</td>\n",
       "      <td>28:03.1</td>\n",
       "      <td>treatment</td>\n",
       "      <td>new_page</td>\n",
       "      <td>0</td>\n",
       "    </tr>\n",
       "    <tr>\n",
       "      <th>4</th>\n",
       "      <td>864975</td>\n",
       "      <td>52:26.2</td>\n",
       "      <td>control</td>\n",
       "      <td>old_page</td>\n",
       "      <td>1</td>\n",
       "    </tr>\n",
       "  </tbody>\n",
       "</table>\n",
       "</div>"
      ],
      "text/plain": [
       "       id     time      group      page  converted\n",
       "0  851104  11:48.6    control  old_page          0\n",
       "1  804228  01:45.2    control  old_page          0\n",
       "2  661590  55:06.2  treatment  new_page          0\n",
       "3  853541  28:03.1  treatment  new_page          0\n",
       "4  864975  52:26.2    control  old_page          1"
      ]
     },
     "execution_count": 12,
     "metadata": {},
     "output_type": "execute_result"
    }
   ],
   "source": [
    "df.head() # Display the first few rows of the DataFrame\n"
   ]
  },
  {
   "cell_type": "markdown",
   "id": "6218dcb2",
   "metadata": {},
   "source": [
    "From the first 5 rows, it can be seen that the control group was shown the old page while the treatment group was shown the new page. "
   ]
  },
  {
   "cell_type": "code",
   "execution_count": 13,
   "id": "e3e2d467",
   "metadata": {},
   "outputs": [
    {
     "name": "stdout",
     "output_type": "stream",
     "text": [
      "<class 'pandas.core.frame.DataFrame'>\n",
      "RangeIndex: 294478 entries, 0 to 294477\n",
      "Data columns (total 5 columns):\n",
      " #   Column     Non-Null Count   Dtype \n",
      "---  ------     --------------   ----- \n",
      " 0   id         294478 non-null  int64 \n",
      " 1   time       294478 non-null  object\n",
      " 2   group      294478 non-null  object\n",
      " 3   page       294478 non-null  object\n",
      " 4   converted  294478 non-null  int64 \n",
      "dtypes: int64(2), object(3)\n",
      "memory usage: 11.2+ MB\n"
     ]
    }
   ],
   "source": [
    "df.info() # Check column types and nulls"
   ]
  },
  {
   "cell_type": "markdown",
   "id": "058b4938",
   "metadata": {},
   "source": [
    "The number of customers used were 294478, and there were no missing entry in the dataset."
   ]
  },
  {
   "cell_type": "code",
   "execution_count": 14,
   "id": "a8189a82",
   "metadata": {},
   "outputs": [
    {
     "data": {
      "text/plain": [
       "id           0\n",
       "time         0\n",
       "group        0\n",
       "page         0\n",
       "converted    0\n",
       "dtype: int64"
      ]
     },
     "execution_count": 14,
     "metadata": {},
     "output_type": "execute_result"
    }
   ],
   "source": [
    "df.isnull().sum() # Check for missing values "
   ]
  },
  {
   "cell_type": "code",
   "execution_count": 15,
   "id": "dea3e5a7",
   "metadata": {},
   "outputs": [
    {
     "data": {
      "text/plain": [
       "np.int64(0)"
      ]
     },
     "execution_count": 15,
     "metadata": {},
     "output_type": "execute_result"
    }
   ],
   "source": [
    "df.duplicated().sum() # Check for duplicate rows\n"
   ]
  },
  {
   "cell_type": "markdown",
   "id": "144c186d",
   "metadata": {},
   "source": [
    "There are no duplicate rows. "
   ]
  },
  {
   "cell_type": "code",
   "execution_count": 16,
   "id": "b625a053",
   "metadata": {},
   "outputs": [
    {
     "data": {
      "text/plain": [
       "group\n",
       "treatment    147276\n",
       "control      147202\n",
       "Name: count, dtype: int64"
      ]
     },
     "execution_count": 16,
     "metadata": {},
     "output_type": "execute_result"
    }
   ],
   "source": [
    "df['group'].value_counts() # count the number of users in each group"
   ]
  },
  {
   "cell_type": "markdown",
   "id": "d34cff6e",
   "metadata": {},
   "source": [
    "The treatment and control groups are nearly equal in size. This balance supports a fair comparison between the two groups in the A/B test."
   ]
  },
  {
   "cell_type": "code",
   "execution_count": 17,
   "id": "c7fdf4ff",
   "metadata": {},
   "outputs": [
    {
     "data": {
      "text/plain": [
       "<Axes: xlabel='group'>"
      ]
     },
     "execution_count": 17,
     "metadata": {},
     "output_type": "execute_result"
    },
    {
     "data": {
      "image/png": "[encoded data removed]",
      "text/plain": [
       "<Figure size 640x480 with 1 Axes>"
      ]
     },
     "metadata": {},
     "output_type": "display_data"
    }
   ],
   "source": [
    "\n",
    "df['group'].value_counts().plot(kind='bar') # Visualize the distribution of groups\n"
   ]
  },
  {
   "cell_type": "code",
   "execution_count": 18,
   "id": "02a9a5cd",
   "metadata": {},
   "outputs": [
    {
     "data": {
      "text/plain": [
       "<Axes: xlabel='group', ylabel='count'>"
      ]
     },
     "execution_count": 18,
     "metadata": {},
     "output_type": "execute_result"
    },
    {
     "data": {
      "image/png": "[encoded data removed]",
      "text/plain": [
       "<Figure size 640x480 with 1 Axes>"
      ]
     },
     "metadata": {},
     "output_type": "display_data"
    }
   ],
   "source": [
    "import seaborn as sns\n",
    "sns.countplot(data=df, x='group', hue='converted') # Countplot of conversion by group\n"
   ]
  },
  {
   "cell_type": "code",
   "execution_count": 19,
   "id": "c5dba6f2",
   "metadata": {},
   "outputs": [
    {
     "data": {
      "text/plain": [
       "group\n",
       "control      0.120399\n",
       "treatment    0.118920\n",
       "Name: converted, dtype: float64"
      ]
     },
     "execution_count": 19,
     "metadata": {},
     "output_type": "execute_result"
    }
   ],
   "source": [
    "df.groupby('group')['converted'].mean() # Calculate conversion rate by group\n"
   ]
  },
  {
   "cell_type": "markdown",
   "id": "baa5e792",
   "metadata": {},
   "source": [
    "The control group has a slightly higher conversion rate (12.04%) compared to the treatment group (11.89%), suggesting a small difference in performance."
   ]
  },
  {
   "cell_type": "code",
   "execution_count": 20,
   "id": "b3b5b599",
   "metadata": {},
   "outputs": [
    {
     "data": {
      "text/plain": [
       "group      page    \n",
       "control    new_page      1928\n",
       "           old_page    145274\n",
       "treatment  new_page    145311\n",
       "           old_page      1965\n",
       "dtype: int64"
      ]
     },
     "execution_count": 20,
     "metadata": {},
     "output_type": "execute_result"
    }
   ],
   "source": [
    "df.groupby(['group', 'page']).size() # Check for mismatched page views in each group"
   ]
  },
  {
   "cell_type": "markdown",
   "id": "3c3a9485",
   "metadata": {},
   "source": [
    "\n",
    "- **1,928 users** in the **control group** saw the **new_page** (they should have seen old_page)\n",
    "- **1,965 users** in the **treatment group** saw the **old_page** (they should have seen new_page)\n",
    "- This gives a total of **3,893 mismatched users**\n",
    "\n",
    "These mismatches can **bias the results** of the experiment and must be removed before proceeding with the A/B test analysis.\n",
    "\n",
    "The dataset needs to be filtered to keep only:\n",
    "- Control group users who saw `old_page`\n",
    "- Treatment group users who saw `new_page`\n"
   ]
  },
  {
   "cell_type": "code",
   "execution_count": 21,
   "id": "e5b1e495",
   "metadata": {},
   "outputs": [
    {
     "data": {
      "text/plain": [
       "<Axes: xlabel='converted'>"
      ]
     },
     "execution_count": 21,
     "metadata": {},
     "output_type": "execute_result"
    },
    {
     "data": {
      "image/png": "[encoded data removed]",
      "text/plain": [
       "<Figure size 640x480 with 1 Axes>"
      ]
     },
     "metadata": {},
     "output_type": "display_data"
    }
   ],
   "source": [
    "# Keep only correct group-page pairs\n",
    "clean_df = df[((df['group'] == 'control') & (df['page'] == 'old_page')) |\n",
    "              ((df['group'] == 'treatment') & (df['page'] == 'new_page'))]\n",
    "clean_df['converted'].value_counts().plot(kind='bar')"
   ]
  },
  {
   "cell_type": "code",
   "execution_count": 22,
   "id": "fa26e754",
   "metadata": {},
   "outputs": [
    {
     "name": "stdout",
     "output_type": "stream",
     "text": [
      "            count    sum  conversion_rate\n",
      "group                                    \n",
      "control    145274  17489         0.120386\n",
      "treatment  145311  17264         0.118807\n"
     ]
    }
   ],
   "source": [
    "summary = clean_df.groupby(\"group\")[\"converted\"].agg([\"count\", \"sum\"])\n",
    "summary[\"conversion_rate\"] = summary[\"sum\"] / summary[\"count\"]\n",
    "print(summary)\n"
   ]
  },
  {
   "cell_type": "markdown",
   "id": "cd5c0775",
   "metadata": {},
   "source": [
    "In the cleaned data,the control group  has a slightly higher conversion rate (12.04%) compared to the treatment group (11.88%), suggesting a small difference in performance. Further testing is needed to determine if this difference is statistically significant."
   ]
  },
  {
   "cell_type": "markdown",
   "id": "e867b6ae",
   "metadata": {},
   "source": [
    "### A/B TESTING\n",
    "\n",
    "A/B testing is a statistical method used to compare two versions of a webpage, product, or feature to determine which one performs better. In this case, users were randomly assigned to either a **control group** (old page) or a **treatment group** (new page), and we compare their conversion rates.\n",
    "\n",
    "To evaluate whether the observed difference in conversion rates is statistically meaningful, we will use a **two-proportion z-test**. This test is appropriate because we're comparing the proportions of conversions (successes) between **two independent groups**.\n",
    "\n",
    "\n",
    "\n",
    "We then calculate the **p-value** to decide whether to reject the null hypothesis.\n",
    "\n",
    "\n"
   ]
  },
  {
   "cell_type": "markdown",
   "id": "ebf9f14f",
   "metadata": {},
   "source": [
    "#### Hypotheses\n",
    "\n",
    "**Null hypothesis (H₀):**  \n",
    "There is **no difference** in conversion rates between the control and treatment groups.  \n",
    "In other words, the new page does **not** perform better or worse than the old page.\n",
    "\n",
    "**Alternative hypothesis (H₁):**  \n",
    "There **is a difference** in conversion rates between the control and treatment groups.  \n",
    "This means the new page either performs **better or worse** than the old page.\n"
   ]
  },
  {
   "cell_type": "markdown",
   "id": "14e3c533",
   "metadata": {},
   "source": [
    "#### Decision Rule\n",
    "\n",
    "We will use a significance level of **α = 0.05**.\n",
    "\n",
    "- If the **p-value < 0.05**:  \n",
    "  🔹 We **reject the null hypothesis** and conclude that there is a **statistically significant difference** in conversion rates between the control and treatment groups.\n",
    "\n",
    "- If the **p-value ≥ 0.05**:  \n",
    "  🔹 We **fail to reject the null hypothesis** and conclude that any difference in conversion rates is likely due to **random chance**.\n"
   ]
  },
  {
   "cell_type": "code",
   "execution_count": 26,
   "id": "6522d258",
   "metadata": {},
   "outputs": [
    {
     "name": "stdout",
     "output_type": "stream",
     "text": [
      "Z-stat: 1.3116, P-value: 0.1897\n",
      "Fail to reject the null hypothesis: No significant difference in conversion rates.\n"
     ]
    }
   ],
   "source": [
    "from statsmodels.stats.proportion import proportions_ztest\n",
    "\n",
    "success = summary[\"sum\"].tolist() # Number of conversions in each group\n",
    "nobs = summary[\"count\"].tolist()  # Total users in each group\n",
    "z_stat, p_val = proportions_ztest(success, nobs)\n",
    "print(f\"Z-stat: {z_stat:.4f}, P-value: {p_val:.4f}\")\n",
    "\n",
    "if p_val < 0.05:\n",
    "    print(\"Reject the null hypothesis: There is a significant difference in conversion rates.\")\n",
    "else:\n",
    "    print(\"Fail to reject the null hypothesis: No significant difference in conversion rates.\")"
   ]
  },
  {
   "cell_type": "markdown",
   "id": "9840abb2",
   "metadata": {},
   "source": [
    "#### 📌 Recommendation:\n",
    "There is **no strong evidence** that the new page performs better than the existing one.  \n",
    "Therefore, it's recommended to **keep the current version of the page** for now.\n",
    "\n",
    "The company may consider:\n",
    "- Running the test longer (if underpowered)\n",
    "- Testing a more impactful design change in future iterations"
   ]
  }
 ],
 "metadata": {
  "kernelspec": {
   "display_name": "Python 3",
   "language": "python",
   "name": "python3"
  },
  "language_info": {
   "codemirror_mode": {
    "name": "ipython",
    "version": 3
   },
   "file_extension": ".py",
   "mimetype": "text/x-python",
   "name": "python",
   "nbconvert_exporter": "python",
   "pygments_lexer": "ipython3",
   "version": "3.13.5"
  }
 },
 "nbformat": 4,
 "nbformat_minor": 5
}
